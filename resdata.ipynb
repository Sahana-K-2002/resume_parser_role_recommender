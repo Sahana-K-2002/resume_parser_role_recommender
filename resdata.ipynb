{
 "cells": [
  {
   "cell_type": "code",
   "execution_count": 1,
   "metadata": {
    "id": "tfWw9t-0Y2--"
   },
   "outputs": [],
   "source": [
    "import numpy as np\n",
    "import pandas as pd"
   ]
  },
  {
   "cell_type": "code",
   "execution_count": 4,
   "metadata": {
    "id": "Z7ydLZ4eTJS_"
   },
   "outputs": [],
   "source": [
    "augmented_dataset=pd.read_csv(\"resume.csv\")"
   ]
  },
  {
   "cell_type": "code",
   "execution_count": 15,
   "metadata": {
    "id": "Y1MVy0uHi6Ri"
   },
   "outputs": [],
   "source": [
    "import re\n",
    "corpus=[]\n",
    "def clean_function(resumeText):\n",
    "    resumeText = re.sub('http\\S+\\s*', ' ', resumeText)  # remove URLs\n",
    "    resumeText = re.sub('RT|cc', ' ', resumeText)  # remove RT and cc\n",
    "    resumeText = re.sub('#\\S+', '', resumeText)  # remove hashtags\n",
    "    resumeText = re.sub('@\\S+', '  ', resumeText)  # remove mentions\n",
    "    resumeText = re.sub('[%s]' % re.escape(\"\"\"!\"#$%&'()*+,-./:;<=>?@[\\]^_`{|}~\"\"\"), ' ', resumeText)  # remove punctuations\n",
    "    resumeText = re.sub(r'[^\\x00-\\x7f]',r' ', resumeText)\n",
    "    resumeText = re.sub('\\s+', ' ', resumeText)  # remove extra whitespace\n",
    "    resumeText=resumeText.lower()\n",
    "    corpus.append(resumeText)\n",
    "    return resumeText"
   ]
  },
  {
   "cell_type": "code",
   "execution_count": 16,
   "metadata": {
    "id": "B6tvxHzh7u1n"
   },
   "outputs": [],
   "source": [
    "augmented_dataset['skills'] = augmented_dataset['skills'].apply(lambda x: clean_function(x))"
   ]
  },
  {
   "cell_type": "code",
   "execution_count": 17,
   "metadata": {
    "id": "7bEnrM7j73hH"
   },
   "outputs": [],
   "source": [
    "from sklearn.feature_extraction.text import CountVectorizer\n",
    "cv=CountVectorizer()\n",
    "x=cv.fit_transform(corpus).toarray()\n",
    "y=augmented_dataset.iloc[:,0].values"
   ]
  },
  {
   "cell_type": "code",
   "execution_count": 18,
   "metadata": {
    "colab": {
     "base_uri": "https://localhost:8080/",
     "height": 74
    },
    "id": "q9KEYHy17-mk",
    "outputId": "4d34bfc7-d8fd-4634-cb42-b7e5d4d69984"
   },
   "outputs": [
    {
     "data": {
      "text/plain": [
       "DecisionTreeClassifier(criterion='entropy', random_state=0)"
      ]
     },
     "execution_count": 18,
     "metadata": {},
     "output_type": "execute_result"
    }
   ],
   "source": [
    "from sklearn.tree import DecisionTreeClassifier\n",
    "classifier = DecisionTreeClassifier(criterion = 'entropy', random_state = 0)\n",
    "classifier.fit(x, y)"
   ]
  },
  {
   "cell_type": "code",
   "execution_count": 19,
   "metadata": {
    "colab": {
     "base_uri": "https://localhost:8080/"
    },
    "id": "cGsPfemV73vK",
    "outputId": "ad3222ed-c477-4223-d649-c13513926fa0"
   },
   "outputs": [
    {
     "data": {
      "text/plain": [
       "0.9903225806451613"
      ]
     },
     "execution_count": 19,
     "metadata": {},
     "output_type": "execute_result"
    }
   ],
   "source": [
    "y_pred = classifier.predict(x)\n",
    "from sklearn.metrics import confusion_matrix, accuracy_score\n",
    "accuracy_score(y, y_pred)"
   ]
  },
  {
   "cell_type": "code",
   "execution_count": 21,
   "metadata": {
    "colab": {
     "base_uri": "https://localhost:8080/"
    },
    "id": "OwrZyFRx8GXR",
    "outputId": "aa07883d-b023-403b-e663-25441729539d"
   },
   "outputs": [],
   "source": [
    "# import nltk\n",
    "# nltk.download('stopwords')\n",
    "\n",
    "\n",
    "# !pip install spacy==2.3.5\n",
    "\n",
    "# !pip install https://github.com/explosion/spacy-models/releases/download/en_core_web_sm-2.3.1/en_core_web_sm-2.3.1.tar.gz\n",
    "\n",
    "# !pip install pyresparser\n"
   ]
  },
  {
   "cell_type": "code",
   "execution_count": 14,
   "metadata": {
    "colab": {
     "base_uri": "https://localhost:8080/"
    },
    "id": "gXedEN1H8Jqw",
    "outputId": "7b03a17b-af4c-4026-c232-28952e91d1b5"
   },
   "outputs": [],
   "source": [
    "\n",
    "# from pyresparser import ResumeParser\n",
    "# with open('Resume2.pdf', 'rb') as file:\n",
    "#     data = ResumeParser(file.name).get_extracted_data()"
   ]
  },
  {
   "cell_type": "code",
   "execution_count": null,
   "metadata": {
    "id": "l4q6hALQ8hBs"
   },
   "outputs": [],
   "source": [
    "# skill_new = data['skills']"
   ]
  },
  {
   "cell_type": "code",
   "execution_count": null,
   "metadata": {
    "colab": {
     "base_uri": "https://localhost:8080/"
    },
    "id": "ajCDcuKA8k7D",
    "outputId": "26d0641f-df1b-4e52-da0c-90bc5ba8da5d"
   },
   "outputs": [
    {
     "name": "stdout",
     "output_type": "stream",
     "text": [
      "['Engineering', 'Computer science', 'Mysql', 'Assembly', 'Process', 'C', 'Architecture', 'Programming', 'Hadoop', 'Mobile', 'Scheduling', 'Android', 'Co-op', 'Ui', 'Java', 'Email', 'Visual', 'Communication', 'Algorithms']\n"
     ]
    }
   ],
   "source": [
    "print(skill_new)"
   ]
  },
  {
   "cell_type": "code",
   "execution_count": null,
   "metadata": {
    "id": "kQe9vokO8m4T"
   },
   "outputs": [],
   "source": [
    "predict= ' '.join([str(elem) for elem in skill_new])"
   ]
  },
  {
   "cell_type": "code",
   "execution_count": null,
   "metadata": {
    "colab": {
     "base_uri": "https://localhost:8080/"
    },
    "id": "OkeHw01W8pZ4",
    "outputId": "6b89d65c-70b5-4456-f3c9-a616278a14d0"
   },
   "outputs": [
    {
     "name": "stdout",
     "output_type": "stream",
     "text": [
      "Engineering Computer science Mysql Assembly Process C Architecture Programming Hadoop Mobile Scheduling Android Co-op Ui Java Email Visual Communication Algorithms\n"
     ]
    }
   ],
   "source": [
    "print(predict)"
   ]
  },
  {
   "cell_type": "code",
   "execution_count": null,
   "metadata": {
    "id": "LMbkQzQU8rwZ"
   },
   "outputs": [],
   "source": [
    "req=[predict.lower()]\n",
    "req=cv.transform(req)"
   ]
  },
  {
   "cell_type": "code",
   "execution_count": null,
   "metadata": {
    "id": "EWRzdM018zIs"
   },
   "outputs": [],
   "source": [
    "category=classifier.predict(req)"
   ]
  },
  {
   "cell_type": "code",
   "execution_count": null,
   "metadata": {
    "colab": {
     "base_uri": "https://localhost:8080/"
    },
    "id": "BtTLFwYB81Hm",
    "outputId": "510ddbe3-3f2a-41cf-ec85-af783392d182"
   },
   "outputs": [
    {
     "name": "stdout",
     "output_type": "stream",
     "text": [
      "['Java Developer']\n"
     ]
    }
   ],
   "source": [
    "print(category)"
   ]
  },
  {
   "cell_type": "code",
   "execution_count": null,
   "metadata": {
    "id": "IIor1tnM83B0"
   },
   "outputs": [],
   "source": [
    "from sklearn.metrics.pairwise import cosine_similarity\n",
    "\n",
    "sim=cosine_similarity(x)"
   ]
  },
  {
   "cell_type": "code",
   "execution_count": null,
   "metadata": {
    "id": "oGTDHdlk85bC"
   },
   "outputs": [],
   "source": [
    "def recommend(job):\n",
    "  jid=augmented_dataset[augmented_dataset['roles']==job].index[0]\n",
    "  dist=sim[jid]\n",
    "  jlist=sorted(list(enumerate(dist)),reverse=True,key=lambda x:x[1])[1:13]\n",
    "  jobset=set()\n",
    "  for i in jlist:\n",
    "    jobset.add(augmented_dataset.iloc[i[0]].roles)\n",
    "  print(jobset)"
   ]
  },
  {
   "cell_type": "code",
   "execution_count": null,
   "metadata": {
    "id": "WK7bq_S188Pi"
   },
   "outputs": [],
   "source": [
    "string=' '.join([str(elem) for elem in category])"
   ]
  },
  {
   "cell_type": "code",
   "execution_count": null,
   "metadata": {
    "colab": {
     "base_uri": "https://localhost:8080/"
    },
    "id": "oPTVoxTr8-D-",
    "outputId": "be0aa8e1-962f-434c-b186-537147f25fcb"
   },
   "outputs": [
    {
     "name": "stdout",
     "output_type": "stream",
     "text": [
      "{'Natural Language Processing Engineer', 'Blockchain Developer', 'Java Developer', 'Network security'}\n"
     ]
    }
   ],
   "source": [
    "recommend(string)"
   ]
  },
  {
   "cell_type": "code",
   "execution_count": null,
   "metadata": {
    "id": "R4x-zd1x9Bll"
   },
   "outputs": [],
   "source": []
  }
 ],
 "metadata": {
  "colab": {
   "provenance": []
  },
  "kernelspec": {
   "display_name": "Python 3 (ipykernel)",
   "language": "python",
   "name": "python3"
  },
  "language_info": {
   "codemirror_mode": {
    "name": "ipython",
    "version": 3
   },
   "file_extension": ".py",
   "mimetype": "text/x-python",
   "name": "python",
   "nbconvert_exporter": "python",
   "pygments_lexer": "ipython3",
   "version": "3.9.13"
  }
 },
 "nbformat": 4,
 "nbformat_minor": 1
}
